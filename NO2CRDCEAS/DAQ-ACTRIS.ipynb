{
 "cells": [
  {
   "cell_type": "code",
   "execution_count": null,
   "id": "b7de087d",
   "metadata": {},
   "outputs": [],
   "source": [
    "### Series of tests for the main ACTRIS DAQ script"
   ]
  },
  {
   "cell_type": "code",
   "execution_count": 17,
   "id": "33aa5605",
   "metadata": {},
   "outputs": [
    {
     "data": {
      "text/plain": [
       "'11111111'"
      ]
     },
     "execution_count": 17,
     "metadata": {},
     "output_type": "execute_result"
    }
   ],
   "source": [
    "number=255\n",
    "f'{number:08b}'"
   ]
  },
  {
   "cell_type": "code",
   "execution_count": 27,
   "id": "12a507c5",
   "metadata": {},
   "outputs": [
    {
     "name": "stdout",
     "output_type": "stream",
     "text": [
      "Please input new DO number:d\n"
     ]
    },
    {
     "ename": "ValueError",
     "evalue": "invalid literal for int() with base 10: 'd'",
     "output_type": "error",
     "traceback": [
      "\u001b[1;31m---------------------------------------------------------------------------\u001b[0m",
      "\u001b[1;31mValueError\u001b[0m                                Traceback (most recent call last)",
      "Cell \u001b[1;32mIn[27], line 3\u001b[0m\n\u001b[0;32m      1\u001b[0m statusDO \u001b[38;5;241m=\u001b[39m \u001b[38;5;124m'\u001b[39m\u001b[38;5;124mDO set to \u001b[39m\u001b[38;5;124m'\u001b[39m \u001b[38;5;241m+\u001b[39m \u001b[38;5;124mf\u001b[39m\u001b[38;5;124m'\u001b[39m\u001b[38;5;132;01m{\u001b[39;00m\u001b[38;5;241m0\u001b[39m\u001b[38;5;132;01m:\u001b[39;00m\u001b[38;5;124m08b\u001b[39m\u001b[38;5;132;01m}\u001b[39;00m\u001b[38;5;124m'\u001b[39m\n\u001b[0;32m      2\u001b[0m number \u001b[38;5;241m=\u001b[39m \u001b[38;5;28minput\u001b[39m(\u001b[38;5;124m\"\u001b[39m\u001b[38;5;124mPlease input new DO number:\u001b[39m\u001b[38;5;124m\"\u001b[39m)\n\u001b[1;32m----> 3\u001b[0m \u001b[38;5;28;01mif\u001b[39;00m (\u001b[38;5;28;43mint\u001b[39;49m\u001b[43m(\u001b[49m\u001b[43mnumber\u001b[49m\u001b[43m)\u001b[49m \u001b[38;5;241m>\u001b[39m\u001b[38;5;241m=\u001b[39m \u001b[38;5;241m0\u001b[39m) \u001b[38;5;129;01mand\u001b[39;00m (\u001b[38;5;28mint\u001b[39m(number) \u001b[38;5;241m<\u001b[39m \u001b[38;5;241m256\u001b[39m):\n\u001b[0;32m      4\u001b[0m     \u001b[38;5;66;03m#ret = instantDo.writeAny(dostartPort, doportCount, [int(number)])\u001b[39;00m\n\u001b[0;32m      5\u001b[0m     statusDO \u001b[38;5;241m=\u001b[39m \u001b[38;5;124m'\u001b[39m\u001b[38;5;124mDO set to \u001b[39m\u001b[38;5;124m'\u001b[39m \u001b[38;5;241m+\u001b[39m \u001b[38;5;124mf\u001b[39m\u001b[38;5;124m'\u001b[39m\u001b[38;5;132;01m{\u001b[39;00m\u001b[38;5;28mint\u001b[39m(number)\u001b[38;5;132;01m:\u001b[39;00m\u001b[38;5;124m08b\u001b[39m\u001b[38;5;132;01m}\u001b[39;00m\u001b[38;5;124m'\u001b[39m\n\u001b[0;32m      6\u001b[0m \u001b[38;5;28;01melse\u001b[39;00m:\n",
      "\u001b[1;31mValueError\u001b[0m: invalid literal for int() with base 10: 'd'"
     ]
    }
   ],
   "source": [
    "statusDO = 'DO set to ' + f'{0:08b}'\n",
    "number = input(\"Please input new DO number:\")\n",
    "if (int(number) >= 0) and (int(number) < 256):\n",
    "    #ret = instantDo.writeAny(dostartPort, doportCount, [int(number)])\n",
    "    statusDO = 'DO set to ' + f'{int(number):08b}'\n",
    "else:\n",
    "    print(\"Wrong number, try again...\")\n",
    "\n",
    "print(statusDO)\n"
   ]
  },
  {
   "cell_type": "code",
   "execution_count": 32,
   "id": "bef8b2ea",
   "metadata": {},
   "outputs": [
    {
     "name": "stdout",
     "output_type": "stream",
     "text": [
      "Please input new voltage:hola\n",
      "Something happened, are you ok?\n",
      "AO is ON with 0.00 V.\n"
     ]
    }
   ],
   "source": [
    "voltage =0\n",
    "statusAO = 'AO is ON with %.2f V.' %voltage\n",
    "voltagestr = input(\"Please input new voltage:\")\n",
    "try:\n",
    "    voltage = float(voltagestr)\n",
    "    if (voltage >= 0) and (voltage <= 10):\n",
    "        #ret = instantAo.writeAny(aochannelStart, aochannelCount, None,[voltage])\n",
    "        statusAO = 'AO is ON with %.2f V.' %voltage\n",
    "    else:\n",
    "        print(\"Wrong number, try again ...\")\n",
    "except:\n",
    "    print(\"Something happened, are you ok?\")\n",
    "print(statusAO)"
   ]
  },
  {
   "cell_type": "code",
   "execution_count": null,
   "id": "8bd0375e",
   "metadata": {},
   "outputs": [],
   "source": []
  },
  {
   "cell_type": "code",
   "execution_count": null,
   "id": "2b32608e",
   "metadata": {},
   "outputs": [],
   "source": []
  }
 ],
 "metadata": {
  "kernelspec": {
   "display_name": "Python 3 (ipykernel)",
   "language": "python",
   "name": "python3"
  },
  "language_info": {
   "codemirror_mode": {
    "name": "ipython",
    "version": 3
   },
   "file_extension": ".py",
   "mimetype": "text/x-python",
   "name": "python",
   "nbconvert_exporter": "python",
   "pygments_lexer": "ipython3",
   "version": "3.11.2"
  }
 },
 "nbformat": 4,
 "nbformat_minor": 5
}
